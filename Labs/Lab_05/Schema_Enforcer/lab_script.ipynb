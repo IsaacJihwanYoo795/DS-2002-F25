{
 "cells": [
  {
   "cell_type": "code",
   "execution_count": 6,
   "id": "20bd2830",
   "metadata": {},
   "outputs": [],
   "source": [
    "import csv\n",
    "import pandas as pd"
   ]
  },
  {
   "cell_type": "code",
   "execution_count": 7,
   "id": "e34ca2f0",
   "metadata": {},
   "outputs": [],
   "source": [
    "tabdata = {\n",
    "    'student id': [10, 20, 30, 40, 50],\n",
    "    'major': ['cs', 'math', 'history', 'science', 'english'],\n",
    "    'GPA': [3, 3.0, 4, 4.0, 4.5],\n",
    "    'is_cs_major': ['Yes', 'No', 'No', 'No', 'No'],\n",
    "    'credits_taken': ['10.5', '12', '13', '14', '15']\n",
    "}\n",
    "data=pd.DataFrame(tabdata)"
   ]
  },
  {
   "cell_type": "code",
   "execution_count": 8,
   "id": "1979fbf2",
   "metadata": {},
   "outputs": [],
   "source": [
    "output_filename = 'raw_survey_data.csv'\n",
    "data.to_csv(output_filename, index=False)"
   ]
  },
  {
   "cell_type": "code",
   "execution_count": 9,
   "id": "e353f9f3",
   "metadata": {},
   "outputs": [],
   "source": [
    "import json\n",
    "courses = [\n",
    "  {\n",
    "    \"course_id\": \"DS2002\",\n",
    "    \"section\": \"001\",\n",
    "    \"title\": \"Data Science Systems\",\n",
    "    \"level\": 200,\n",
    "    \"instructors\": [\n",
    "      {\"name\": \"Austin Rivera\", \"role\": \"Primary\"}, \n",
    "      {\"name\": \"Heywood Williams-Tracy\", \"role\": \"TA\"} \n",
    "    ]\n",
    "  },\n",
    "  {\n",
    "    \"course_id\": \"D2003\",\n",
    "    \"title\": \"Communicating with Data\",\n",
    "    \"level\": 200,\n",
    "    \"instructors\": [\n",
    "      {\"name\": \"Antonios Mamalakis\", \"role\": \"Primary\"}\n",
    "    ]\n",
    "  },\n",
    "  {\n",
    "    \"course_id\": \"CHEM4410\",\n",
    "    \"title\": \"Biological Chemistry 1\",\n",
    "    \"level\": 400,\n",
    "    \"instructors\": [\n",
    "      {\"name\": \"Andreas Gahlmann\", \"role\": \"Primary\"},\n",
    "      {\"name\": \"Linda Columbus\", \"role\": \"Primary\"}\n",
    "    ]\n",
    "  },\n",
    "  {\n",
    "    \"course_id\": \"BIOL3410\",\n",
    "    \"title\": \"Human Anatomy and Physiology 1\",\n",
    "    \"level\": 300,\n",
    "    \"instructors\": [\n",
    "      {\"name\": \"Ann Massey\", \"role\": \"Primary\"}\n",
    "    ]\n",
    "  },\n",
    "  {\n",
    "    \"course_id\": \"BIOL3410\",\n",
    "    \"title\": \"Human Anatomy and Physiology 1\",\n",
    "    \"level\": 300,\n",
    "    \"instructors\": [\n",
    "      {\"name\": \"Ann Massey\", \"role\": \"Primary\"}\n",
    "    ]\n",
    "  },\n",
    "  {\n",
    "    \"course_id\": \"PHS3104\",\n",
    "    \"title\": \"Intro to Epidemiology\",\n",
    "    \"level\": 300,\n",
    "    \"instructors\": [\n",
    "      {\"name\": \"Jean Elby\", \"role\": \"Primary\"}\n",
    "    ]\n",
    "  }\n",
    "]"
   ]
  },
  {
   "cell_type": "code",
   "execution_count": 10,
   "id": "6023729d",
   "metadata": {},
   "outputs": [],
   "source": [
    "output_filenameJson = \"raw_course_catalog.json\"\n",
    "with open(output_filenameJson, \"w\") as f:\n",
    "    json.dump(courses, f)"
   ]
  },
  {
   "cell_type": "code",
   "execution_count": 11,
   "id": "d43ee117",
   "metadata": {},
   "outputs": [],
   "source": [
    "df1 = pd.read_csv('raw_survey_data.csv')"
   ]
  },
  {
   "cell_type": "code",
   "execution_count": 12,
   "id": "e5ccdf69",
   "metadata": {},
   "outputs": [
    {
     "name": "stderr",
     "output_type": "stream",
     "text": [
      "/tmp/ipykernel_10113/2015611583.py:1: FutureWarning: Downcasting behavior in `replace` is deprecated and will be removed in a future version. To retain the old behavior, explicitly call `result.infer_objects(copy=False)`. To opt-in to the future behavior, set `pd.set_option('future.no_silent_downcasting', True)`\n",
      "  df1['is_cs_major'] = df1['is_cs_major'].replace({'Yes':True, 'No':False})\n"
     ]
    }
   ],
   "source": [
    "df1['is_cs_major'] = df1['is_cs_major'].replace({'Yes':True, 'No':False})\n",
    "df1['credits_taken'] = df1['credits_taken'].astype(float)\n",
    "df1['GPA'] = df1['GPA'].astype(float)"
   ]
  },
  {
   "cell_type": "code",
   "execution_count": 13,
   "id": "bc54880d",
   "metadata": {},
   "outputs": [],
   "source": [
    "output_filename = 'clean_survey_data.csv'\n",
    "df1.to_csv(output_filename, index=False)"
   ]
  },
  {
   "cell_type": "code",
   "execution_count": 14,
   "id": "464ee82d",
   "metadata": {},
   "outputs": [],
   "source": [
    "file = \"raw_course_catalog.json\"\n",
    "with open(file, \"r\") as f:\n",
    "    df2 = json.load(f)"
   ]
  },
  {
   "cell_type": "code",
   "execution_count": 15,
   "id": "2f88e318",
   "metadata": {},
   "outputs": [],
   "source": [
    "fixeddf2 = pd.json_normalize(df2, record_path=['instructors'], meta=['course_id', 'title', 'level'])"
   ]
  },
  {
   "cell_type": "code",
   "execution_count": 16,
   "id": "df3dc41d",
   "metadata": {},
   "outputs": [],
   "source": [
    "output_filename = 'clean_course_catalog.csv'\n",
    "fixeddf2.to_csv(output_filename, index=False)"
   ]
  }
 ],
 "metadata": {
  "kernelspec": {
   "display_name": "Python 3",
   "language": "python",
   "name": "python3"
  },
  "language_info": {
   "codemirror_mode": {
    "name": "ipython",
    "version": 3
   },
   "file_extension": ".py",
   "mimetype": "text/x-python",
   "name": "python",
   "nbconvert_exporter": "python",
   "pygments_lexer": "ipython3",
   "version": "3.12.1"
  }
 },
 "nbformat": 4,
 "nbformat_minor": 5
}
